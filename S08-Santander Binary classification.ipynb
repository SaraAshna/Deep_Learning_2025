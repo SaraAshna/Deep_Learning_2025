{
  "cells": [
    {
      "cell_type": "code",
      "execution_count": 1,
      "metadata": {
        "id": "N8n_ZUQH7bBK"
      },
      "outputs": [],
      "source": [
        "import torch\n",
        "from torchvision import datasets\n",
        "from torch import optim\n",
        "import matplotlib.pyplot as plt\n",
        "import torch.nn as nn\n",
        "import numpy as np\n",
        "import pandas as pd\n",
        "from torch.utils.data import Dataset,DataLoader, TensorDataset\n",
        "from sklearn.datasets import make_moons\n",
        "from sklearn.preprocessing import StandardScaler\n",
        "from sklearn.model_selection import train_test_split\n",
        "from sklearn.metrics import confusion_matrix, roc_curve, precision_recall_curve, auc\n",
        "import requests"
      ]
    },
    {
      "cell_type": "code",
      "execution_count": 2,
      "metadata": {
        "id": "kSHsA87B78-6"
      },
      "outputs": [],
      "source": [
        "device = 'cuda' if torch.cuda.is_available() else 'cpu'"
      ]
    },
    {
      "cell_type": "code",
      "execution_count": 3,
      "metadata": {
        "id": "zCUH_Drs2rE8"
      },
      "outputs": [],
      "source": [
        "train= pd.read_csv(\"train.csv\")"
      ]
    },
    {
      "cell_type": "code",
      "execution_count": 4,
      "metadata": {
        "colab": {
          "base_uri": "https://localhost:8080/",
          "height": 255
        },
        "id": "qsRyl_X623xc",
        "outputId": "d192cc39-805e-46ad-91e7-cf5002ce2afc"
      },
      "outputs": [
        {
          "data": {
            "text/html": [
              "<div>\n",
              "<style scoped>\n",
              "    .dataframe tbody tr th:only-of-type {\n",
              "        vertical-align: middle;\n",
              "    }\n",
              "\n",
              "    .dataframe tbody tr th {\n",
              "        vertical-align: top;\n",
              "    }\n",
              "\n",
              "    .dataframe thead th {\n",
              "        text-align: right;\n",
              "    }\n",
              "</style>\n",
              "<table border=\"1\" class=\"dataframe\">\n",
              "  <thead>\n",
              "    <tr style=\"text-align: right;\">\n",
              "      <th></th>\n",
              "      <th>ID_code</th>\n",
              "      <th>target</th>\n",
              "      <th>var_0</th>\n",
              "      <th>var_1</th>\n",
              "      <th>var_2</th>\n",
              "      <th>var_3</th>\n",
              "      <th>var_4</th>\n",
              "      <th>var_5</th>\n",
              "      <th>var_6</th>\n",
              "      <th>var_7</th>\n",
              "      <th>...</th>\n",
              "      <th>var_190</th>\n",
              "      <th>var_191</th>\n",
              "      <th>var_192</th>\n",
              "      <th>var_193</th>\n",
              "      <th>var_194</th>\n",
              "      <th>var_195</th>\n",
              "      <th>var_196</th>\n",
              "      <th>var_197</th>\n",
              "      <th>var_198</th>\n",
              "      <th>var_199</th>\n",
              "    </tr>\n",
              "  </thead>\n",
              "  <tbody>\n",
              "    <tr>\n",
              "      <th>0</th>\n",
              "      <td>train_0</td>\n",
              "      <td>0</td>\n",
              "      <td>8.9255</td>\n",
              "      <td>-6.7863</td>\n",
              "      <td>11.9081</td>\n",
              "      <td>5.0930</td>\n",
              "      <td>11.4607</td>\n",
              "      <td>-9.2834</td>\n",
              "      <td>5.1187</td>\n",
              "      <td>18.6266</td>\n",
              "      <td>...</td>\n",
              "      <td>4.4354</td>\n",
              "      <td>3.9642</td>\n",
              "      <td>3.1364</td>\n",
              "      <td>1.6910</td>\n",
              "      <td>18.5227</td>\n",
              "      <td>-2.3978</td>\n",
              "      <td>7.8784</td>\n",
              "      <td>8.5635</td>\n",
              "      <td>12.7803</td>\n",
              "      <td>-1.0914</td>\n",
              "    </tr>\n",
              "    <tr>\n",
              "      <th>1</th>\n",
              "      <td>train_1</td>\n",
              "      <td>0</td>\n",
              "      <td>11.5006</td>\n",
              "      <td>-4.1473</td>\n",
              "      <td>13.8588</td>\n",
              "      <td>5.3890</td>\n",
              "      <td>12.3622</td>\n",
              "      <td>7.0433</td>\n",
              "      <td>5.6208</td>\n",
              "      <td>16.5338</td>\n",
              "      <td>...</td>\n",
              "      <td>7.6421</td>\n",
              "      <td>7.7214</td>\n",
              "      <td>2.5837</td>\n",
              "      <td>10.9516</td>\n",
              "      <td>15.4305</td>\n",
              "      <td>2.0339</td>\n",
              "      <td>8.1267</td>\n",
              "      <td>8.7889</td>\n",
              "      <td>18.3560</td>\n",
              "      <td>1.9518</td>\n",
              "    </tr>\n",
              "    <tr>\n",
              "      <th>2</th>\n",
              "      <td>train_2</td>\n",
              "      <td>0</td>\n",
              "      <td>8.6093</td>\n",
              "      <td>-2.7457</td>\n",
              "      <td>12.0805</td>\n",
              "      <td>7.8928</td>\n",
              "      <td>10.5825</td>\n",
              "      <td>-9.0837</td>\n",
              "      <td>6.9427</td>\n",
              "      <td>14.6155</td>\n",
              "      <td>...</td>\n",
              "      <td>2.9057</td>\n",
              "      <td>9.7905</td>\n",
              "      <td>1.6704</td>\n",
              "      <td>1.6858</td>\n",
              "      <td>21.6042</td>\n",
              "      <td>3.1417</td>\n",
              "      <td>-6.5213</td>\n",
              "      <td>8.2675</td>\n",
              "      <td>14.7222</td>\n",
              "      <td>0.3965</td>\n",
              "    </tr>\n",
              "    <tr>\n",
              "      <th>3</th>\n",
              "      <td>train_3</td>\n",
              "      <td>0</td>\n",
              "      <td>11.0604</td>\n",
              "      <td>-2.1518</td>\n",
              "      <td>8.9522</td>\n",
              "      <td>7.1957</td>\n",
              "      <td>12.5846</td>\n",
              "      <td>-1.8361</td>\n",
              "      <td>5.8428</td>\n",
              "      <td>14.9250</td>\n",
              "      <td>...</td>\n",
              "      <td>4.4666</td>\n",
              "      <td>4.7433</td>\n",
              "      <td>0.7178</td>\n",
              "      <td>1.4214</td>\n",
              "      <td>23.0347</td>\n",
              "      <td>-1.2706</td>\n",
              "      <td>-2.9275</td>\n",
              "      <td>10.2922</td>\n",
              "      <td>17.9697</td>\n",
              "      <td>-8.9996</td>\n",
              "    </tr>\n",
              "    <tr>\n",
              "      <th>4</th>\n",
              "      <td>train_4</td>\n",
              "      <td>0</td>\n",
              "      <td>9.8369</td>\n",
              "      <td>-1.4834</td>\n",
              "      <td>12.8746</td>\n",
              "      <td>6.6375</td>\n",
              "      <td>12.2772</td>\n",
              "      <td>2.4486</td>\n",
              "      <td>5.9405</td>\n",
              "      <td>19.2514</td>\n",
              "      <td>...</td>\n",
              "      <td>-1.4905</td>\n",
              "      <td>9.5214</td>\n",
              "      <td>-0.1508</td>\n",
              "      <td>9.1942</td>\n",
              "      <td>13.2876</td>\n",
              "      <td>-1.5121</td>\n",
              "      <td>3.9267</td>\n",
              "      <td>9.5031</td>\n",
              "      <td>17.9974</td>\n",
              "      <td>-8.8104</td>\n",
              "    </tr>\n",
              "  </tbody>\n",
              "</table>\n",
              "<p>5 rows × 202 columns</p>\n",
              "</div>"
            ],
            "text/plain": [
              "   ID_code  target    var_0   var_1    var_2   var_3    var_4   var_5   var_6  \\\n",
              "0  train_0       0   8.9255 -6.7863  11.9081  5.0930  11.4607 -9.2834  5.1187   \n",
              "1  train_1       0  11.5006 -4.1473  13.8588  5.3890  12.3622  7.0433  5.6208   \n",
              "2  train_2       0   8.6093 -2.7457  12.0805  7.8928  10.5825 -9.0837  6.9427   \n",
              "3  train_3       0  11.0604 -2.1518   8.9522  7.1957  12.5846 -1.8361  5.8428   \n",
              "4  train_4       0   9.8369 -1.4834  12.8746  6.6375  12.2772  2.4486  5.9405   \n",
              "\n",
              "     var_7  ...  var_190  var_191  var_192  var_193  var_194  var_195  \\\n",
              "0  18.6266  ...   4.4354   3.9642   3.1364   1.6910  18.5227  -2.3978   \n",
              "1  16.5338  ...   7.6421   7.7214   2.5837  10.9516  15.4305   2.0339   \n",
              "2  14.6155  ...   2.9057   9.7905   1.6704   1.6858  21.6042   3.1417   \n",
              "3  14.9250  ...   4.4666   4.7433   0.7178   1.4214  23.0347  -1.2706   \n",
              "4  19.2514  ...  -1.4905   9.5214  -0.1508   9.1942  13.2876  -1.5121   \n",
              "\n",
              "   var_196  var_197  var_198  var_199  \n",
              "0   7.8784   8.5635  12.7803  -1.0914  \n",
              "1   8.1267   8.7889  18.3560   1.9518  \n",
              "2  -6.5213   8.2675  14.7222   0.3965  \n",
              "3  -2.9275  10.2922  17.9697  -8.9996  \n",
              "4   3.9267   9.5031  17.9974  -8.8104  \n",
              "\n",
              "[5 rows x 202 columns]"
            ]
          },
          "execution_count": 4,
          "metadata": {},
          "output_type": "execute_result"
        }
      ],
      "source": [
        "train.head()"
      ]
    },
    {
      "cell_type": "code",
      "execution_count": 5,
      "metadata": {
        "colab": {
          "base_uri": "https://localhost:8080/",
          "height": 0
        },
        "id": "AIk5pO9P3ZuV",
        "outputId": "8a5ff0c5-ae2c-4234-e4ff-a398d0fe05d9"
      },
      "outputs": [
        {
          "data": {
            "text/plain": [
              "(200000, 202)"
            ]
          },
          "execution_count": 5,
          "metadata": {},
          "output_type": "execute_result"
        }
      ],
      "source": [
        "train.shape\n"
      ]
    },
    {
      "cell_type": "code",
      "execution_count": 6,
      "metadata": {
        "colab": {
          "base_uri": "https://localhost:8080/",
          "height": 0
        },
        "id": "NepBhFR83Z3a",
        "outputId": "a5b6386c-441a-4440-94f3-aad274e802a9"
      },
      "outputs": [
        {
          "data": {
            "text/plain": [
              "Index(['ID_code', 'target', 'var_0', 'var_1', 'var_2', 'var_3', 'var_4',\n",
              "       'var_5', 'var_6', 'var_7',\n",
              "       ...\n",
              "       'var_190', 'var_191', 'var_192', 'var_193', 'var_194', 'var_195',\n",
              "       'var_196', 'var_197', 'var_198', 'var_199'],\n",
              "      dtype='object', length=202)"
            ]
          },
          "execution_count": 6,
          "metadata": {},
          "output_type": "execute_result"
        }
      ],
      "source": [
        "train.columns"
      ]
    },
    {
      "cell_type": "code",
      "execution_count": 7,
      "metadata": {
        "colab": {
          "base_uri": "https://localhost:8080/",
          "height": 178
        },
        "id": "bjqYdWT73q9G",
        "outputId": "b19a382b-a8a4-4ca9-c04b-e09db3b52e4c"
      },
      "outputs": [
        {
          "data": {
            "text/plain": [
              "target\n",
              "0    0.89951\n",
              "1    0.10049\n",
              "Name: proportion, dtype: float64"
            ]
          },
          "execution_count": 7,
          "metadata": {},
          "output_type": "execute_result"
        }
      ],
      "source": [
        "train['target'].value_counts(normalize=True)\n"
      ]
    },
    {
      "cell_type": "code",
      "execution_count": 8,
      "metadata": {
        "colab": {
          "base_uri": "https://localhost:8080/",
          "height": 0
        },
        "id": "puzixojsTUog",
        "outputId": "e1164402-cdd5-4f7b-888c-7f4234963460"
      },
      "outputs": [],
      "source": [
        "X = train.drop(['ID_code','target'], axis=1)\n",
        "y = train['target']\n",
        "\n",
        "X_train, X_val, y_train, y_val = train_test_split(\n",
        "    X, y, test_size=0.2, stratify=y, random_state=42)\n",
        "\n",
        "from sklearn.impute import SimpleImputer\n",
        "imputer = SimpleImputer(strategy='mean')\n",
        "imputer.fit(X_train)\n",
        "X_train_imputed = imputer.transform(X_train)\n",
        "X_val_imputed = imputer.transform(X_val)\n",
        "\n",
        "scaler = StandardScaler()\n",
        "X_train = scaler.fit_transform(X_train_imputed)\n",
        "X_val = scaler.transform(X_val_imputed)\n",
        "\n",
        "x_train_tensor = torch.as_tensor(X_train, dtype=torch.float32)\n",
        "y_train_tensor = torch.as_tensor(y_train.values.reshape(-1,1), dtype=torch.float32)\n",
        "x_val_tensor = torch.as_tensor(X_val, dtype=torch.float32)\n",
        "y_val_tensor = torch.as_tensor(y_val.values.reshape(-1,1), dtype=torch.float32)\n",
        "\n",
        "train_dataset = TensorDataset(x_train_tensor, y_train_tensor)\n",
        "val_dataset = TensorDataset(x_val_tensor, y_val_tensor)\n",
        "train_loader = DataLoader(train_dataset, batch_size=16, shuffle=True)\n",
        "val_loader = DataLoader(val_dataset, batch_size=16, shuffle=False)\n"
      ]
    },
    {
      "cell_type": "code",
      "execution_count": 9,
      "metadata": {},
      "outputs": [
        {
          "name": "stdout",
          "output_type": "stream",
          "text": [
            "NaNs in X_train: False\n",
            "NaNs in X_val: False\n",
            "0 1\n",
            "0 1\n"
          ]
        }
      ],
      "source": [
        "print(f\"NaNs in X_train: {np.isnan(X_train).any()}\")\n",
        "print(f\"NaNs in X_val: {np.isnan(X_val).any()}\")\n",
        "print(y_train.min(), y_train.max())  # should be 0 and 1\n",
        "print(y_val.min(), y_val.max())"
      ]
    },
    {
      "cell_type": "code",
      "execution_count": 10,
      "metadata": {
        "colab": {
          "base_uri": "https://localhost:8080/",
          "height": 0
        },
        "id": "ckqkZiYoTIck",
        "outputId": "4e6b938c-83bd-41b7-9238-317d76fdffa3"
      },
      "outputs": [
        {
          "name": "stdout",
          "output_type": "stream",
          "text": [
            "NaNs in X_train_scaled: False\n",
            "NaNs in X_val_scaled: False\n"
          ]
        }
      ],
      "source": [
        "# Replace NaNs in validation with training means\n",
        "from sklearn.impute import SimpleImputer\n",
        "\n",
        "# Create imputer fitted on training data\n",
        "imputer = SimpleImputer(strategy='mean')\n",
        "imputer.fit(X_train)\n",
        "\n",
        "# Transform both sets (this handles NaNs properly)\n",
        "X_train_imputed = imputer.transform(X_train)\n",
        "X_val_imputed = imputer.transform(X_val)\n",
        "\n",
        "# Now scale with the clean data\n",
        "scaler = StandardScaler()\n",
        "X_train_scaled = scaler.fit_transform(X_train_imputed)\n",
        "X_val_scaled = scaler.transform(X_val_imputed)\n",
        "\n",
        "# Verify no NaNs remain\n",
        "print(\"NaNs in X_train_scaled:\", np.isnan(X_train_scaled).any())\n",
        "print(\"NaNs in X_val_scaled:\", np.isnan(X_val_scaled).any())\n",
        "\n",
        "# Update your tensors\n",
        "x_train_tensor = torch.as_tensor(X_train_scaled).float()\n",
        "y_train_tensor = torch.as_tensor(y_train.values.reshape(-1,1)).float()\n",
        "x_val_tensor = torch.as_tensor(X_val_scaled).float()\n",
        "y_val_tensor = torch.as_tensor(y_val.values.reshape(-1,1)).float()"
      ]
    },
    {
      "cell_type": "code",
      "execution_count": 11,
      "metadata": {
        "colab": {
          "base_uri": "https://localhost:8080/",
          "height": 0
        },
        "id": "ZFaV8vDmIH23",
        "outputId": "6464a2f8-b9a4-45dd-ae78-230c8b1daa0d"
      },
      "outputs": [
        {
          "name": "stdout",
          "output_type": "stream",
          "text": [
            "0 1\n",
            "0 1\n"
          ]
        }
      ],
      "source": [
        "print(y_train.min(), y_train.max())\n",
        "print(y_val.min(), y_val.max())"
      ]
    },
    {
      "cell_type": "code",
      "execution_count": 12,
      "metadata": {
        "colab": {
          "base_uri": "https://localhost:8080/",
          "height": 0
        },
        "id": "9pyN-C1Z8223",
        "outputId": "9bd5c1c9-db73-4898-ccda-abe8c7139ec2"
      },
      "outputs": [
        {
          "data": {
            "text/plain": [
              "ManualClassification(\n",
              "  (fc1): Linear(in_features=200, out_features=1, bias=True)\n",
              ")"
            ]
          },
          "execution_count": 12,
          "metadata": {},
          "output_type": "execute_result"
        }
      ],
      "source": [
        "class ManualClassification(nn.Module):\n",
        "    def __init__(self):\n",
        "        super().__init__()\n",
        "        self.fc1 = nn.Linear(200, 1)\n",
        "\n",
        "    def forward(self, x):\n",
        "        return self.fc1(x)  # raw logits\n",
        "\n",
        "\n",
        "model = ManualClassification()\n",
        "model.to(device)"
      ]
    },
    {
      "cell_type": "code",
      "execution_count": 13,
      "metadata": {
        "id": "7uc-jZp586YX"
      },
      "outputs": [],
      "source": [
        "optimizer = torch.optim.Adam(model.parameters(), lr=0.01)\n",
        "criterion = nn.BCEWithLogitsLoss()\n",
        "\n"
      ]
    },
    {
      "cell_type": "code",
      "execution_count": 14,
      "metadata": {
        "id": "B_QBXE8Y9NS6"
      },
      "outputs": [],
      "source": [
        "def accuracy(outputs, targets):\n",
        "    preds = (outputs > 0.5).float()\n",
        "    return (preds == targets).sum().item() / targets.size(0)\n",
        "\n"
      ]
    },
    {
      "cell_type": "code",
      "execution_count": 17,
      "metadata": {
        "colab": {
          "base_uri": "https://localhost:8080/",
          "height": 708
        },
        "id": "tSAGE6_--Mw_",
        "outputId": "4c4b9291-c9dd-4913-a308-4cc1d2d732da"
      },
      "outputs": [
        {
          "name": "stdout",
          "output_type": "stream",
          "text": [
            "Epoch 1/20 | Train Loss: 0.2583, Val Loss: 0.2458 | Train Acc: 0.9057, Val Acc: 0.9100\n",
            "Epoch 2/20 | Train Loss: 0.2440, Val Loss: 0.2388 | Train Acc: 0.9103, Val Acc: 0.9131\n",
            "Epoch 3/20 | Train Loss: 0.2377, Val Loss: 0.2335 | Train Acc: 0.9115, Val Acc: 0.9133\n",
            "Epoch 4/20 | Train Loss: 0.2314, Val Loss: 0.2334 | Train Acc: 0.9131, Val Acc: 0.9137\n",
            "Epoch 5/20 | Train Loss: 0.2264, Val Loss: 0.2338 | Train Acc: 0.9146, Val Acc: 0.9153\n",
            "Epoch 6/20 | Train Loss: 0.2195, Val Loss: 0.2303 | Train Acc: 0.9161, Val Acc: 0.9143\n",
            "Epoch 7/20 | Train Loss: 0.2153, Val Loss: 0.2309 | Train Acc: 0.9177, Val Acc: 0.9146\n",
            "Epoch 8/20 | Train Loss: 0.2114, Val Loss: 0.2319 | Train Acc: 0.9189, Val Acc: 0.9141\n",
            "Epoch 9/20 | Train Loss: 0.2068, Val Loss: 0.2317 | Train Acc: 0.9200, Val Acc: 0.9149\n",
            "Epoch 10/20 | Train Loss: 0.2023, Val Loss: 0.2339 | Train Acc: 0.9214, Val Acc: 0.9138\n",
            "Epoch 11/20 | Train Loss: 0.1989, Val Loss: 0.2362 | Train Acc: 0.9231, Val Acc: 0.9127\n",
            "Epoch 12/20 | Train Loss: 0.1958, Val Loss: 0.2375 | Train Acc: 0.9239, Val Acc: 0.9132\n",
            "Epoch 13/20 | Train Loss: 0.1930, Val Loss: 0.2379 | Train Acc: 0.9246, Val Acc: 0.9115\n",
            "Epoch 14/20 | Train Loss: 0.1894, Val Loss: 0.2398 | Train Acc: 0.9268, Val Acc: 0.9117\n",
            "Epoch 15/20 | Train Loss: 0.1877, Val Loss: 0.2412 | Train Acc: 0.9264, Val Acc: 0.9122\n",
            "Epoch 16/20 | Train Loss: 0.1837, Val Loss: 0.2455 | Train Acc: 0.9278, Val Acc: 0.9103\n",
            "Epoch 17/20 | Train Loss: 0.1809, Val Loss: 0.2452 | Train Acc: 0.9294, Val Acc: 0.9109\n",
            "Epoch 18/20 | Train Loss: 0.1785, Val Loss: 0.2471 | Train Acc: 0.9296, Val Acc: 0.9093\n",
            "Epoch 19/20 | Train Loss: 0.1765, Val Loss: 0.2534 | Train Acc: 0.9306, Val Acc: 0.9072\n",
            "Epoch 20/20 | Train Loss: 0.1739, Val Loss: 0.2492 | Train Acc: 0.9312, Val Acc: 0.9085\n"
          ]
        },
        {
          "data": {
            "image/png": "[encoded data removed]",
            "text/plain": [
              "<Figure size 1200x500 with 2 Axes>"
            ]
          },
          "metadata": {},
          "output_type": "display_data"
        }
      ],
      "source": [
        "# --- Dataset & DataLoader ---\n",
        "class SantanderDataset(Dataset):\n",
        "    def __init__(self, X, y):\n",
        "        self.X = torch.tensor(X, dtype=torch.float32)\n",
        "        self.y = torch.tensor(y, dtype=torch.float32).view(-1, 1)  # Binary target\n",
        "    def __getitem__(self, idx):\n",
        "        return self.X[idx].to(device), self.y[idx].to(device)\n",
        "    def __len__(self):\n",
        "        return len(self.X)\n",
        "\n",
        "train_dataset = SantanderDataset(X_train, y_train.values)\n",
        "valid_dataset = SantanderDataset(X_val, y_val.values)\n",
        "\n",
        "\n",
        "train_dataloader = DataLoader(train_dataset, batch_size=32, shuffle=True)\n",
        "valid_dataloader = DataLoader(valid_dataset, batch_size=32, shuffle=False)\n",
        "\n",
        "# --- Model ---\n",
        "model = nn.Sequential(\n",
        "    nn.Linear(200, 1000),\n",
        "    nn.BatchNorm1d(1000),\n",
        "    nn.ReLU(),\n",
        "    nn.Dropout(0.5),\n",
        "    nn.Linear(1000, 1000),\n",
        "    nn.BatchNorm1d(1000),\n",
        "    nn.ReLU(),\n",
        "    nn.Dropout(0.5),\n",
        "    nn.Linear(1000, 1)  # Binary output\n",
        ").to(device)\n",
        "\n",
        "criterion = nn.BCEWithLogitsLoss()  # استفاده از BCEWithLogitsLoss امن تره\n",
        "optimizer = torch.optim.Adam(model.parameters(), lr=1e-3)\n",
        "\n",
        "# Accuracy function\n",
        "def accuracy(outputs, targets):\n",
        "    preds = torch.sigmoid(outputs) > 0.5\n",
        "    return (preds.float() == targets).sum().item() / targets.size(0)\n",
        "\n",
        "# Train & Validate functions\n",
        "def train_epoch(model, dataloader, optimizer, criterion):\n",
        "    model.train()\n",
        "    total_loss = 0\n",
        "    total_acc = 0\n",
        "    for inputs, targets in dataloader:\n",
        "        optimizer.zero_grad()\n",
        "        outputs = model(inputs)\n",
        "        loss = criterion(outputs, targets)\n",
        "        loss.backward()\n",
        "        optimizer.step()\n",
        "        total_loss += loss.item()\n",
        "        total_acc += accuracy(outputs, targets)\n",
        "    return total_loss / len(dataloader), total_acc / len(dataloader)\n",
        "\n",
        "def validate_epoch(model, dataloader, criterion):\n",
        "    model.eval()\n",
        "    total_loss = 0\n",
        "    total_acc = 0\n",
        "    with torch.no_grad():\n",
        "        for inputs, targets in dataloader:\n",
        "            outputs = model(inputs)\n",
        "            loss = criterion(outputs, targets)\n",
        "            total_loss += loss.item()\n",
        "            total_acc += accuracy(outputs, targets)\n",
        "    return total_loss / len(dataloader), total_acc / len(dataloader)\n",
        "\n",
        "# ---Training loop---\n",
        "n_epochs = 20\n",
        "train_losses, val_losses = [], []\n",
        "train_accs, val_accs = [], []\n",
        "\n",
        "for epoch in range(n_epochs):\n",
        "    train_loss, train_acc = train_epoch(model, train_dataloader, optimizer, criterion)\n",
        "    val_loss, val_acc = validate_epoch(model, valid_dataloader, criterion)\n",
        "    \n",
        "    train_losses.append(train_loss)\n",
        "    val_losses.append(val_loss)\n",
        "    train_accs.append(train_acc)\n",
        "    val_accs.append(val_acc)\n",
        "    \n",
        "    print(f\"Epoch {epoch+1}/{n_epochs} | \"\n",
        "          f\"Train Loss: {train_loss:.4f}, Val Loss: {val_loss:.4f} | \"\n",
        "          f\"Train Acc: {train_acc:.4f}, Val Acc: {val_acc:.4f}\")\n",
        "\n",
        "# --Plot---\n",
        "plt.figure(figsize=(12,5))\n",
        "plt.subplot(1,2,1)\n",
        "plt.plot(range(1,n_epochs+1), train_losses, label='Train Loss')\n",
        "plt.plot(range(1,n_epochs+1), val_losses, label='Val Loss')\n",
        "plt.xlabel('Epoch'); plt.ylabel('Loss'); plt.legend(); plt.title('Loss')\n",
        "\n",
        "plt.subplot(1,2,2)\n",
        "plt.plot(range(1,n_epochs+1), train_accs, label='Train Acc')\n",
        "plt.plot(range(1,n_epochs+1), val_accs, label='Val Acc')\n",
        "plt.xlabel('Epoch'); plt.ylabel('Accuracy'); plt.legend(); plt.title('Accuracy')\n",
        "plt.show()\n"
      ]
    },
    {
      "cell_type": "code",
      "execution_count": null,
      "metadata": {
        "colab": {
          "base_uri": "https://localhost:8080/",
          "height": 0
        },
        "id": "CrauPtlWSoRE",
        "outputId": "9b5155e6-9b27-4050-b224-fe7f6dae148c"
      },
      "outputs": [],
      "source": [
        "print(np.isnan(X_train).any())\n",
        "print(np.isnan(X_val).any())"
      ]
    }
  ],
  "metadata": {
    "colab": {
      "provenance": []
    },
    "kernelspec": {
      "display_name": "Python 3",
      "name": "python3"
    },
    "language_info": {
      "codemirror_mode": {
        "name": "ipython",
        "version": 3
      },
      "file_extension": ".py",
      "mimetype": "text/x-python",
      "name": "python",
      "nbconvert_exporter": "python",
      "pygments_lexer": "ipython3",
      "version": "3.10.10"
    }
  },
  "nbformat": 4,
  "nbformat_minor": 0
}
