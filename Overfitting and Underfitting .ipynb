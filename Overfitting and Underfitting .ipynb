{
  "cells": [
    {
      "cell_type": "markdown",
      "metadata": {
        "id": "YluThavSflVm"
      },
      "source": []
    },
    {
      "cell_type": "markdown",
      "metadata": {
        "id": "zGID98mkfDOW"
      },
      "source": [
        "## Exercise\n",
        "\n",
        "1. Load the dataset **`california_housing_train.csv`**.\n",
        "2. Use the provided model architecture to train the data.\n",
        "3. Monitor and record both **training loss** and **validation loss** during the training process.\n",
        "4. Plot the loss curves to visually compare the model’s performance on training and validation data.\n",
        "\n",
        "### Notes\n",
        "- Split the dataset into **training** and **validation** sets before training.\n",
        "- Watch for signs of **overfitting** or **underfitting** in the loss curves.\n",
        "- Report your final training and validation losses at the end of training.\n"
      ]
    },
    {
      "cell_type": "code",
      "execution_count": 27,
      "metadata": {
        "id": "z8icG7raSQSB"
      },
      "outputs": [],
      "source": [
        "import pandas as pd\n",
        "from sklearn.model_selection import train_test_split\n",
        "import torch\n",
        "\n",
        "df = pd.read_csv('/content/sample_data/california_housing_train.csv')\n",
        "x = df.drop(['median_house_value'], axis= 1)\n",
        "y = df['median_house_value']\n",
        "x_train, x_test, y_train, y_test = train_test_split(x,y, test_size=0.2, random_state= 42)\n",
        "device = 'cuda' if torch.cuda.is_available() else 'cpu'\n",
        "\n",
        "x_train_tensor = torch.tensor(x_train.values, dtype = torch.float32, device = device)\n",
        "y_train_tensor = torch.tensor(y_train.values.reshape(-1,1), dtype = torch.float32, device = device)\n",
        "\n",
        "x_test_tensor = torch.tensor(x_test.values, dtype = torch.float32, device = device)\n",
        "y_test_tensor = torch.tensor(y_test.values.reshape(-1,1), dtype = torch.float32, device = device)\n",
        "\n",
        "x_mu = x_train_tensor.mean(axis = 0)\n",
        "x_std = x_train_tensor.std(axis = 0)\n",
        "x_train_tensor_scaled = (x_train_tensor - x_mu)/(x_std)\n",
        "\n",
        "y_mu = y_train_tensor.mean()\n",
        "y_std = y_train_tensor.std()\n",
        "y_train_tensor_scaled = (y_train_tensor - y_mu)/(y_std)\n",
        "\n",
        "x_test_tensor_scaled = (x_test_tensor - x_mu)/(x_std)\n",
        "y_test_tensor_scaled = (y_test_tensor - y_mu)/(y_std)"
      ]
    },
    {
      "cell_type": "code",
      "execution_count": 28,
      "metadata": {
        "id": "jF2jnvQtYEwE"
      },
      "outputs": [],
      "source": [
        "from torch import nn\n",
        "\n",
        "class ManualRegresion(nn.Module):\n",
        "  def __init__(self, input_dim):\n",
        "    super().__init__()\n",
        "    self.fc1 = nn.Linear(input_dim, 5)\n",
        "    self.fc2 = nn.Linear(5, 3)\n",
        "    self.fc3 = nn.Linear(3,1)\n",
        "    self.relu = nn.ReLU()\n",
        "\n",
        "  def forward(self, x):\n",
        "    x = self.relu(self.fc1(x))\n",
        "    x = self.fc2(x)\n",
        "    x = self.relu(x)\n",
        "    x = self.fc3(x)\n",
        "    return x\n"
      ]
    },
    {
      "cell_type": "code",
      "execution_count": 29,
      "metadata": {
        "colab": {
          "base_uri": "https://localhost:8080/",
          "height": 795
        },
        "id": "7kdS0YGOt32u",
        "outputId": "1829a929-ecf0-4762-94e4-7b73e1ebc005"
      },
      "outputs": [
        {
          "output_type": "stream",
          "name": "stdout",
          "text": [
            "Epoch 1: train loss = 1.1765588521957397, val loss = 1.1773452758789062\n",
            "Epoch 500: train loss = 0.6364377737045288, val loss = 0.6313725113868713\n",
            "Epoch 1000: train loss = 0.4464797377586365, val loss = 0.4359516501426697\n",
            "Epoch 1500: train loss = 0.3688180148601532, val loss = 0.3562955856323242\n",
            "Epoch 2000: train loss = 0.3522012233734131, val loss = 0.3397154211997986\n",
            "Epoch 2500: train loss = 0.34097179770469666, val loss = 0.3295256197452545\n",
            "Epoch 3000: train loss = 0.33198651671409607, val loss = 0.32177793979644775\n",
            "Epoch 3500: train loss = 0.32538560032844543, val loss = 0.31649622321128845\n",
            "Epoch 4000: train loss = 0.3210557699203491, val loss = 0.31332817673683167\n",
            "Epoch 4500: train loss = 0.31800544261932373, val loss = 0.3109425902366638\n",
            "Epoch 5000: train loss = 0.31557372212409973, val loss = 0.30908286571502686\n",
            "Epoch 5500: train loss = 0.3133687674999237, val loss = 0.30749377608299255\n",
            "Epoch 6000: train loss = 0.311290979385376, val loss = 0.3059799075126648\n",
            "Epoch 6500: train loss = 0.30918991565704346, val loss = 0.3042488396167755\n",
            "Epoch 7000: train loss = 0.30704453587532043, val loss = 0.3025014400482178\n",
            "Epoch 7500: train loss = 0.30453363060951233, val loss = 0.3003346621990204\n",
            "Epoch 8000: train loss = 0.30149930715560913, val loss = 0.2977234721183777\n",
            "Epoch 8500: train loss = 0.297412633895874, val loss = 0.2944263815879822\n",
            "Epoch 9000: train loss = 0.2924843728542328, val loss = 0.2903221547603607\n",
            "Epoch 9500: train loss = 0.28751108050346375, val loss = 0.28613755106925964\n",
            "Epoch 10000: train loss = 0.2838350832462311, val loss = 0.2829374670982361\n"
          ]
        },
        {
          "output_type": "display_data",
          "data": {
            "text/plain": [
              "<Figure size 640x480 with 1 Axes>"
            ],
            "image/png": "[encoded data removed]"
          },
          "metadata": {}
        }
      ],
      "source": [
        "from torch import optim\n",
        "import matplotlib.pyplot as plt\n",
        "\n",
        "torch.manual_seed(42)\n",
        "lr = .01\n",
        "input_dim = x_train_tensor.shape[1]\n",
        "model = ManualRegresion(input_dim).to(device)\n",
        "optimizer = optim.SGD(model.parameters(), lr = lr)\n",
        "loss_fn = nn.MSELoss()\n",
        "n_epochs = 10000\n",
        "train_losses = []\n",
        "val_losses = []\n",
        "\n",
        "for epoch in range(n_epochs):\n",
        "  model.train()\n",
        "  optimizer.zero_grad()\n",
        "  y_pred = model(x_train_tensor_scaled)\n",
        "  loss = loss_fn(y_train_tensor_scaled, y_pred)\n",
        "  loss.backward()\n",
        "  optimizer.step()\n",
        "  train_losses.append(loss.detach().cpu().item())\n",
        "\n",
        "  model.eval()\n",
        "  with torch.no_grad():\n",
        "    y_pred = model(x_test_tensor_scaled)\n",
        "    test_loss = loss_fn(y_test_tensor_scaled, y_pred)\n",
        "    val_losses.append(test_loss.cpu().item())\n",
        "\n",
        "\n",
        "  if (epoch + 1) % 500 == 0 or epoch == 0:\n",
        "    print(f'Epoch {epoch + 1}: train loss = {loss.detach().cpu().item()}, val loss = {test_loss.cpu().item()}')\n",
        "\n",
        "plt.plot(range(n_epochs), train_losses)\n",
        "plt.plot(range(n_epochs), val_losses)\n",
        "plt.show()"
      ]
    },
    {
      "cell_type": "markdown",
      "metadata": {
        "id": "5V_XPvHkfDOc"
      },
      "source": [
        "### Exercise: Build a Deep Model to Demonstrate Overfitting\n",
        "\n",
        "**Instructions:**\n",
        "\n",
        "You will create a deep fully-connected neural network for a regression task.  \n",
        "The architecture will be intentionally large compared to the dataset size so that overfitting can be observed.\n",
        "\n",
        "**Model Architecture:**\n",
        "- **Input layer**: number of neurons equal to the number of input features (`input_dim`).\n",
        "- **Hidden Layer 1**: 256 neurons, ReLU activation.\n",
        "- **Hidden Layer 2**: 128 neurons, ReLU activation.\n",
        "- **Hidden Layer 3**: 64 neurons, ReLU activation.\n",
        "- **Hidden Layer 4**: 32 neurons, ReLU activation.\n",
        "- **Hidden Layer 5**: 16 neurons, ReLU activation.\n",
        "- **Output Layer**: 1 neuron (no activation).\n",
        "\n",
        "**Steps:**\n",
        "1. Implement the above architecture using `torch.nn.Module`.\n",
        "2. Train the model **only on the first 100 samples** of the training dataset (`X_train`, `y_train`).\n",
        "3. Train for a sufficient number of epochs (e.g., 5000) to let the model memorize the training data.\n",
        "4. Record both **training loss** and **validation loss** over epochs.\n",
        "5. Plot both curves to observe:\n",
        "   - Training loss decreasing close to zero.\n",
        "   - Validation loss increasing after some point (a clear sign of overfitting).\n",
        "\n",
        "**Expected Output:**\n",
        "- A plot with two curves:  \n",
        "  - **Training loss** continuously decreasing.  \n",
        "  - **Validation loss** starting low but increasing after some epochs.\n",
        "- Clear evidence that the model has memorized the small training set instead of generalizing.\n"
      ]
    },
    {
      "cell_type": "code",
      "source": [
        "import pandas as pd\n",
        "from sklearn.model_selection import train_test_split\n",
        "import torch\n",
        "df = pd.read_csv('/content/sample_data/california_housing_train.csv')\n",
        "x = df.drop(['median_house_value'], axis= 1)\n",
        "y = df['median_house_value']\n",
        "x_train = x.iloc[:100]\n",
        "y_train = y.iloc[:100]\n",
        "x_test = x.iloc[100:]\n",
        "y_test = y.iloc[100:]"
      ],
      "metadata": {
        "id": "k4X7QggIhkso"
      },
      "execution_count": 30,
      "outputs": []
    },
    {
      "cell_type": "code",
      "source": [
        "device = 'cuda' if torch.cuda.is_available() else 'cpu'\n",
        "x_train_tensor = torch.tensor(x_train.values , dtype = torch.float32, device = device)\n",
        "y_train_tensor = torch.tensor(y_train.values.reshape(-1,1) , dtype = torch.float32, device = device)\n",
        "x_test_tensor = torch.tensor(x_test.values , dtype = torch.float32, device = device)\n",
        "y_test_tensor = torch.tensor(y_test.values.reshape(-1,1) , dtype = torch.float32, device = device)"
      ],
      "metadata": {
        "id": "xIl51D50kCw4"
      },
      "execution_count": 31,
      "outputs": []
    },
    {
      "cell_type": "code",
      "execution_count": 32,
      "metadata": {
        "id": "hkO-oOmtfDOc"
      },
      "outputs": [],
      "source": [
        "from torch import nn\n",
        "class Overfitmodel(nn.Module):\n",
        "  def __init__(self,input_dim):\n",
        "    super().__init__()\n",
        "    self.fc1 = nn.Linear(input_dim,256)\n",
        "    self.fc2 = nn.Linear(256,128)\n",
        "    self.fc3 = nn.Linear(128,64)\n",
        "    self.fc4 = nn.Linear(64,32)\n",
        "    self.fc5 = nn.Linear(32,1)\n",
        "    self.relu = nn.ReLU()\n",
        "\n",
        "  def forward(self,x):\n",
        "    x = self.relu(self.fc1(x))\n",
        "    x = self.relu(self.fc2(x))\n",
        "    x = self.relu(self.fc3(x))\n",
        "    x = self.relu(self.fc4(x))\n",
        "    x = self.fc5(x)\n",
        "    return x"
      ]
    },
    {
      "cell_type": "code",
      "source": [
        "print(\"Max X:\", x_train_tensor.max().item())\n",
        "print(\"Min X:\", x_train_tensor.min().item())\n",
        "print(\"Max y:\", y_train_tensor.max().item())\n",
        "print(\"Min y:\", y_train_tensor.min().item())\n"
      ],
      "metadata": {
        "colab": {
          "base_uri": "https://localhost:8080/"
        },
        "id": "rtSFgy1FQQPd",
        "outputId": "946b0ab0-457e-4f8b-aa90-1c1199f22fc1"
      },
      "execution_count": 33,
      "outputs": [
        {
          "output_type": "stream",
          "name": "stdout",
          "text": [
            "Max X: 7650.0\n",
            "Min X: -115.58999633789062\n",
            "Max y: 146300.0\n",
            "Min y: 25000.0\n"
          ]
        }
      ]
    },
    {
      "cell_type": "code",
      "source": [
        "#Scaling\n",
        "'''\n",
        "x_mu = x_train_tensor.mean(axis = 0)\n",
        "x_std = x_train_tensor.std(axis=0)\n",
        "x_train_tensor_scaled = (x_train_tensor - x_mu)/(x_std)\n",
        "x_test_tensor_scaled = (x_test_tensor - x_mu)/(x_std)\n",
        "\n",
        "y_mu = y_train_tensor.mean()\n",
        "y_std = y_train_tensor.std()\n",
        "y_train_tensor_scaled = (y_train_tensor - y_mu)/(y_std)\n",
        "y_test_tensor_scaled = (y_test_tensor - y_mu)/(y_std)\n",
        "\n",
        "x_mu = torch.tensor(x.values, dtype=torch.float32, device=device).mean(axis=0)\n",
        "x_std = torch.tensor(x.values, dtype=torch.float32, device=device).std(axis=0)''' #this scaling doesn't works here\n",
        "#We must scale by using the ENTIRE dataset statistics, not just training\n",
        "\n",
        "\n",
        "y_mu = torch.tensor(y.values, dtype=torch.float32, device=device).mean()\n",
        "y_std = torch.tensor(y.values, dtype=torch.float32, device=device).std()\n",
        "y_train_tensor_scaled = (y_train_tensor - y_mu)/(y_std)\n",
        "y_test_tensor_scaled = (y_test_tensor - y_mu)/(y_std)\n",
        "x_train_tensor_scaled = (x_train_tensor - x_mu)/(x_std)\n",
        "x_test_tensor_scaled = (x_test_tensor - x_mu)/(x_std)"
      ],
      "metadata": {
        "id": "0Dkwi1BtPQRx"
      },
      "execution_count": 34,
      "outputs": []
    },
    {
      "cell_type": "code",
      "source": [
        "print(\"Max X:\", x_train_tensor_scaled.max().item())\n",
        "print(\"Min X:\", x_train_tensor_scaled.min().item())\n",
        "print(\"Max y:\", y_train_tensor_scaled.max().item())\n",
        "print(\"Min y:\", y_train_tensor_scaled.min().item())\n",
        "print(\"Max X:\", x_test_tensor_scaled.max().item())\n",
        "print(\"Min X:\", x_test_tensor_scaled.min().item())\n",
        "print(\"Max y:\", y_test_tensor_scaled.max().item())\n",
        "print(\"Min y:\", y_test_tensor_scaled.min().item())"
      ],
      "metadata": {
        "colab": {
          "base_uri": "https://localhost:8080/"
        },
        "id": "rrHJ65BJS9UW",
        "outputId": "ead35bfa-ab9a-448f-f577-abd9664eb5cc"
      },
      "execution_count": 35,
      "outputs": [
        {
          "output_type": "stream",
          "name": "stdout",
          "text": [
            "Max X: 3.2323150634765625\n",
            "Min X: -1.8778091669082642\n",
            "Max y: -0.5259433388710022\n",
            "Min y: -1.5717793703079224\n",
            "Max X: 29.51626968383789\n",
            "Min X: -2.392026901245117\n",
            "Max y: 2.523630142211914\n",
            "Min y: -1.6580069065093994\n"
          ]
        }
      ]
    },
    {
      "cell_type": "code",
      "execution_count": 36,
      "metadata": {
        "colab": {
          "base_uri": "https://localhost:8080/"
        },
        "id": "J1cJJCMRfDOc",
        "outputId": "525e06aa-13c9-40a3-8724-9ee07c7559bf"
      },
      "outputs": [
        {
          "output_type": "stream",
          "name": "stdout",
          "text": [
            "Epoch 1: train loss = 1.4298644065856934, val loss = 1.0017499923706055\n",
            "Epoch 501: train loss = 0.047426529228687286, val loss = 1.757145643234253\n",
            "Epoch 1001: train loss = 0.032726604491472244, val loss = 1.8671363592147827\n",
            "Epoch 1501: train loss = 0.030217740684747696, val loss = 1.8591480255126953\n",
            "Epoch 2001: train loss = 0.028046438470482826, val loss = 1.8499655723571777\n",
            "Epoch 2501: train loss = 0.026114730164408684, val loss = 1.8399486541748047\n",
            "Epoch 3001: train loss = 0.024477500468492508, val loss = 1.829811930656433\n",
            "Epoch 3501: train loss = 0.023046260699629784, val loss = 1.8190104961395264\n",
            "Epoch 4001: train loss = 0.021763043478131294, val loss = 1.8081841468811035\n",
            "Epoch 4501: train loss = 0.020644014701247215, val loss = 1.797767162322998\n"
          ]
        }
      ],
      "source": [
        "from torch import optim\n",
        "torch.manual_seed(42)\n",
        "input_dim = x_train_tensor.shape[1]\n",
        "model = Overfitmodel(input_dim).to(device)\n",
        "lr = 0.001\n",
        "train_losses = []\n",
        "val_losses = []\n",
        "epoches = 5000\n",
        "optimizer = optim.SGD(model.parameters(), lr = lr)\n",
        "loss_fn = nn.MSELoss()\n",
        "\n",
        "for epoch in range(epoches):\n",
        "  model.train()\n",
        "  optimizer.zero_grad()\n",
        "  y_pred = model(x_train_tensor_scaled)\n",
        "  train_loss = loss_fn(y_train_tensor_scaled, y_pred)\n",
        "  train_loss.backward()\n",
        "  optimizer.step()\n",
        "  train_losses.append(train_loss.detach().cpu().item())\n",
        "\n",
        "  model.eval()\n",
        "  with torch.no_grad():\n",
        "    y_pred = model(x_test_tensor_scaled)\n",
        "    test_loss = loss_fn(y_test_tensor_scaled, y_pred)\n",
        "    val_losses.append(test_loss.cpu().item())\n",
        "  if epoch % 500 == 0 or epoch ==0:\n",
        "    print(f'Epoch {epoch+1}: train loss = {train_loss.detach().cpu().item()}, val loss = {test_loss.cpu().item()}')\n"
      ]
    },
    {
      "cell_type": "code",
      "source": [
        "import matplotlib.pyplot as plt\n",
        "plt.plot(range(epoches),train_losses , label='Training Loss', color = 'red')\n",
        "plt.plot(range(epoches),val_losses , label='Validation Loss', color = 'blue')\n",
        "plt.legend()\n",
        "plt.show()\n",
        "\n",
        "\n"
      ],
      "metadata": {
        "colab": {
          "base_uri": "https://localhost:8080/",
          "height": 430
        },
        "id": "u3qzshbAgi8z",
        "outputId": "bc22846f-a04f-4007-bc18-dc76235ef569"
      },
      "execution_count": 37,
      "outputs": [
        {
          "output_type": "display_data",
          "data": {
            "text/plain": [
              "<Figure size 640x480 with 1 Axes>"
            ],
            "image/png": "[encoded data removed]"
          },
          "metadata": {}
        }
      ]
    },
    {
      "cell_type": "markdown",
      "metadata": {
        "id": "ErURQXtu4RTX"
      },
      "source": [
        "### Exercise: Build a Simple Model to Demonstrate Underfitting\n",
        "\n",
        "**Instructions:**\n",
        "\n",
        "You will create an extremely simple neural network for a regression task in order to observe **underfitting**.\n",
        "\n",
        "**Model Architecture:**\n",
        "- **Input Layer**: number of neurons equal to the number of input features (`input_dim`).\n",
        "- **Output Layer**: 1 neuron (no hidden layers, no activation function).\n",
        "\n",
        "**Steps:**\n",
        "1. Implement the above architecture using `torch.nn.Module`.\n",
        "2. Train the model on the **entire training dataset** (no sample limitation).\n",
        "3. Use the same training procedure as before (same optimizer and loss function), but **train for fewer epochs** than in the previous exercises.\n",
        "4. Record both **training loss** and **validation loss** over epochs.\n",
        "5. Plot both curves to observe:\n",
        "   - Training loss remains relatively high.\n",
        "   - Validation loss also remains high.\n",
        "   - Both indicate that the model is too simple to capture the complexity of the data (underfitting).\n",
        "\n",
        "**Expected Output:**\n",
        "- A loss plot showing minimal improvement over epochs.\n",
        "- Similar loss values for both training and validation sets, but both being higher than desired.\n",
        "\n"
      ]
    },
    {
      "cell_type": "markdown",
      "metadata": {
        "id": "7ybY0CxdfDOc"
      },
      "source": [
        "### Exercise: Build a Simple Model to Demonstrate Underfitting\n",
        "\n",
        "**Instructions:**\n",
        "\n",
        "You will create an extremely simple neural network for a regression task in order to observe **underfitting**.\n",
        "\n",
        "**Model Architecture:**\n",
        "- **Input Layer**: number of neurons equal to the number of input features (`input_dim`).\n",
        "- **Output Layer**: 1 neuron (no hidden layers, no activation function).\n",
        "\n",
        "**Steps:**\n",
        "1. Implement the above architecture using `torch.nn.Module`.\n",
        "2. Train the model on the **entire training dataset** (no sample limitation).\n",
        "3. Use the same training procedure as before (same optimizer and loss function), but **train for fewer epochs** than in the previous exercises.\n",
        "4. Record both **training loss** and **validation loss** over epochs.\n",
        "5. Plot both curves to observe:\n",
        "   - Training loss remains relatively high.\n",
        "   - Validation loss also remains high.\n",
        "   - Both indicate that the model is too simple to capture the complexity of the data (underfitting).\n",
        "\n",
        "**Expected Output:**\n",
        "- A loss plot showing minimal improvement over epochs.\n",
        "- Similar loss values for both training and validation sets, but both being higher than desired.\n",
        "\n"
      ]
    },
    {
      "cell_type": "code",
      "source": [
        "from torch import nn, optim\n",
        "import matplotlib.pyplot as plt\n",
        "\n",
        "# Model Architecture\n",
        "class UnderfittingModel(nn.Module):\n",
        "    def __init__(self, input_dim):\n",
        "        super().__init__()\n",
        "        self.fc1 = nn.Linear(input_dim, 1)\n",
        "\n",
        "    def forward(self, x):\n",
        "        return self.fc1(x)\n",
        "\n",
        "# Training\n",
        "torch.manual_seed(42)\n",
        "lr = 0.01  # You can adjust the learning rate\n",
        "n_epochs = 100 # Fewer epochs to demonstrate underfitting\n",
        "\n",
        "input_dim = x_train_tensor_scaled.shape[1] # Using the scaled training data\n",
        "model = UnderfittingModel(input_dim).to(device)\n",
        "optimizer = optim.SGD(model.parameters(), lr=lr)\n",
        "loss_fn = nn.MSELoss()\n",
        "\n",
        "train_losses = []\n",
        "val_losses = []\n",
        "\n",
        "for epoch in range(n_epochs):\n",
        "    model.train()\n",
        "    optimizer.zero_grad()\n",
        "    y_pred = model(x_train_tensor_scaled)\n",
        "    train_loss = loss_fn(y_train_tensor_scaled, y_pred)\n",
        "    train_loss.backward()\n",
        "    optimizer.step()\n",
        "    train_losses.append(train_loss.detach().cpu().item())\n",
        "\n",
        "    model.eval()\n",
        "    with torch.no_grad():\n",
        "        y_pred = model(x_test_tensor_scaled)\n",
        "        test_loss = loss_fn(y_test_tensor_scaled, y_pred)\n",
        "        val_losses.append(test_loss.cpu().item())\n",
        "\n",
        "    if (epoch + 1) % 20 == 0 or epoch == 0: # Print loss less frequently\n",
        "        print(f'Epoch {epoch + 1}: train loss = {train_loss.detach().cpu().item()}, val loss = {test_loss.cpu().item()}')\n",
        "\n",
        "# Plotting\n",
        "plt.plot(range(n_epochs), train_losses, label='Training Loss')\n",
        "plt.plot(range(n_epochs), val_losses, label='Validation Loss')\n",
        "plt.xlabel('Epoch')\n",
        "plt.ylabel('Loss')\n",
        "plt.title('Underfitting Model Loss Curves')\n",
        "plt.legend()\n",
        "plt.show()"
      ],
      "metadata": {
        "colab": {
          "base_uri": "https://localhost:8080/",
          "height": 576
        },
        "id": "qvErsNw2SsQd",
        "outputId": "ab1b7eb7-9d5e-4ac2-8ad4-63b607c6ee68"
      },
      "execution_count": 67,
      "outputs": [
        {
          "output_type": "stream",
          "name": "stdout",
          "text": [
            "Epoch 1: train loss = 1.012338638305664, val loss = 0.9939414262771606\n",
            "Epoch 20: train loss = 0.7741013169288635, val loss = 0.7659440636634827\n",
            "Epoch 40: train loss = 0.6546333432197571, val loss = 0.6505047678947449\n",
            "Epoch 60: train loss = 0.5919923782348633, val loss = 0.5897229909896851\n",
            "Epoch 80: train loss = 0.5562036037445068, val loss = 0.5548338294029236\n",
            "Epoch 100: train loss = 0.5335752367973328, val loss = 0.5326546430587769\n"
          ]
        },
        {
          "output_type": "display_data",
          "data": {
            "text/plain": [
              "<Figure size 640x480 with 1 Axes>"
            ],
            "image/png": "[encoded data removed]"
          },
          "metadata": {}
        }
      ]
    },
    {
      "cell_type": "code",
      "source": [
        "import pandas as pd\n",
        "from sklearn.model_selection import train_test_split\n",
        "import torch\n",
        "df = pd.read_csv('/content/sample_data/california_housing_train.csv')\n",
        "x = df.drop(['median_house_value'], axis= 1)\n",
        "y = df['median_house_value']"
      ],
      "metadata": {
        "id": "9G_nxu7V4eBb"
      },
      "execution_count": 68,
      "outputs": []
    },
    {
      "cell_type": "code",
      "source": [
        "import torch\n",
        "device = 'cuda' if torch.cuda.is_available() else 'cpu'\n",
        "x_train_tensor = torch.tensor(x.values, dtype=torch.float32, device= device)\n",
        "y_train_tensor = torch.tensor(y.values.reshape(-1,1) , dtype=torch.float32, device= device)\n",
        "x_test_tensor = torch.tensor(x.values, dtype=torch.float32, device= device)\n",
        "y_test_tensor = torch.tensor(y.values.reshape(-1,1) , dtype=torch.float32, device= device)"
      ],
      "metadata": {
        "id": "CCQaSWwl4ef8"
      },
      "execution_count": 69,
      "outputs": []
    },
    {
      "cell_type": "code",
      "source": [
        "#Scaling\n",
        "x_mu = x_train_tensor.mean(axis = 0)\n",
        "x_std = x_train_tensor.std(axis = 0)\n",
        "x_train_tensor_scaled = (x_train_tensor - x_mu)/x_std\n",
        "x_test_tensor_scaled = (x_test_tensor - x_mu)/x_std\n",
        "\n",
        "y_mu = y_train_tensor.mean(axis = 0)\n",
        "y_std = y_train_tensor.std(axis = 0)\n",
        "y_train_tensor_scaled = (y_train_tensor - y_mu)/y_std\n",
        "y_test_tensor_scaled = (y_test_tensor - y_mu)/y_std"
      ],
      "metadata": {
        "id": "ddz9ZGmD4mh0"
      },
      "execution_count": 70,
      "outputs": []
    },
    {
      "cell_type": "code",
      "source": [
        "#nn model\n",
        "\n",
        "from torch import nn\n",
        "class  UnderfittingModel(nn.Module):\n",
        "  def __init__(self,input_dim):\n",
        "    super().__init__()\n",
        "    self.fc1 = nn.Linear(input_dim,1)\n",
        "\n",
        "  def forward(self,x):\n",
        "    x = self.fc1(x)\n",
        "    return x"
      ],
      "metadata": {
        "id": "PdfslV_t4otR"
      },
      "execution_count": 71,
      "outputs": []
    },
    {
      "cell_type": "code",
      "source": [
        "from torch import optim\n",
        "torch.manual_seed(42)\n",
        "train_losses = []\n",
        "val_losses = []\n",
        "lr = 0.01\n",
        "n_epoches = 500\n",
        "loss_fn = nn.MSELoss()\n",
        "input_dim = x_train_tensor.shape[1]\n",
        "model = UnderfittingModel(input_dim).to(device)\n",
        "optimizer = optim.SGD(model.parameters(),lr = lr)\n",
        "\n",
        "for epoch in range(n_epoches):\n",
        "  model.train()\n",
        "  y_pred = model(x_train_tensor_scaled)\n",
        "  train_loss = loss_fn(y_train_tensor_scaled, y_pred)\n",
        "  train_loss.backward()\n",
        "  optimizer.step()\n",
        "  optimizer.zero_grad()\n",
        "  train_losses.append(train_loss.detach().cpu().item())\n",
        "\n",
        "  model.eval()\n",
        "  with torch.no_grad():\n",
        "    y_pred = model(x_test_tensor_scaled)\n",
        "    test_loss = loss_fn(y_test_tensor_scaled,y_pred)\n",
        "    val_losses.append(test_loss.cpu().item())\n",
        "\n",
        "  if epoch % 50 == 0 or epoch == 0 :\n",
        "    print(f'Epoch {epoch +1 } trainning loss = {train_loss.detach().cpu().item()} and validation loss = {test_loss.cpu().item()}')\n"
      ],
      "metadata": {
        "colab": {
          "base_uri": "https://localhost:8080/"
        },
        "id": "9Io9GqwB5XjH",
        "outputId": "a7c1ad06-b3ce-4a23-afd8-fd0a9f6b5ec6"
      },
      "execution_count": 75,
      "outputs": [
        {
          "output_type": "stream",
          "name": "stdout",
          "text": [
            "Epoch 1 trainning loss = 1.012338638305664 and validation loss = 0.9939414262771606\n",
            "Epoch 51 trainning loss = 0.6156061291694641 and validation loss = 0.6126663088798523\n",
            "Epoch 101 trainning loss = 0.5326546430587769 and validation loss = 0.5317496061325073\n",
            "Epoch 151 trainning loss = 0.49935030937194824 and validation loss = 0.4988398551940918\n",
            "Epoch 201 trainning loss = 0.47722068428993225 and validation loss = 0.4768316149711609\n",
            "Epoch 251 trainning loss = 0.4595152735710144 and validation loss = 0.45919322967529297\n",
            "Epoch 301 trainning loss = 0.444689005613327 and validation loss = 0.44441717863082886\n",
            "Epoch 351 trainning loss = 0.43214088678359985 and validation loss = 0.43191033601760864\n",
            "Epoch 401 trainning loss = 0.42148861289024353 and validation loss = 0.421292781829834\n",
            "Epoch 451 trainning loss = 0.4124335050582886 and validation loss = 0.41226693987846375\n"
          ]
        }
      ]
    },
    {
      "cell_type": "code",
      "source": [
        "#plotting\n",
        "import matplotlib.pyplot as plt\n",
        "\n",
        "plt.plot(train_losses, label='Training Loss')\n",
        "plt.plot(val_losses, label='Validation Loss')\n",
        "plt.legend()\n",
        "plt.show()"
      ],
      "metadata": {
        "colab": {
          "base_uri": "https://localhost:8080/",
          "height": 430
        },
        "id": "sbOejJWVA9Hl",
        "outputId": "d46850f0-ad31-42d5-8490-2c8b278ad43d"
      },
      "execution_count": 81,
      "outputs": [
        {
          "output_type": "display_data",
          "data": {
            "text/plain": [
              "<Figure size 640x480 with 1 Axes>"
            ],
            "image/png": "[encoded data removed]"
          },
          "metadata": {}
        }
      ]
    }
  ],
  "metadata": {
    "colab": {
      "provenance": []
    },
    "kernelspec": {
      "display_name": "Python 3",
      "name": "python3"
    },
    "language_info": {
      "codemirror_mode": {
        "name": "ipython",
        "version": 3
      },
      "file_extension": ".py",
      "mimetype": "text/x-python",
      "name": "python",
      "nbconvert_exporter": "python",
      "pygments_lexer": "ipython3",
      "version": "3.10.6"
    }
  },
  "nbformat": 4,
  "nbformat_minor": 0
}